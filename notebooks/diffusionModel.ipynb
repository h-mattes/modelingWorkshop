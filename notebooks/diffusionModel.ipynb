{
 "cells": [
  {
   "cell_type": "markdown",
   "id": "4c950f92-26bb-4bd4-89cb-b30eae47a807",
   "metadata": {},
   "source": [
    "use esc + m to switch from code to markdown cell\n",
    "# 1D diffusion model"
   ]
  },
  {
   "cell_type": "markdown",
   "id": "8f47436d-0ac0-46d9-a7e8-1cc1d0a15fb2",
   "metadata": {},
   "source": [
    "Here we develop a one-dimensional model of diffusion. It assumes a constant diffusivity, uses a regular grid, and has fixed boundary conditions (these are simplifying assumptions)"
   ]
  },
  {
   "cell_type": "markdown",
   "id": "9c63b221-5332-4cf9-9716-211cd6a46106",
   "metadata": {},
   "source": [
    "The diffusion equation:\n",
    "$$ \\frac{\\partial C}{\\partial t} = D\\frac{\\partial^2 C}{\\partial x^2} $$\n",
    "The discretized version of the diffusion equation that we'll solve with our model:\n",
    "$$ C^{t+1}_x = C^t_x + {D \\Delta t \\over \\Delta x^2} (C^t_{x+1} - 2C^t_x + C^t_{x-1}) $$\n",
    "This is the explicit FTCS scheme as described in Slingerland and Kump (2011). (Or see Wikipedia.)"
   ]
  },
  {
   "cell_type": "markdown",
   "id": "3d0cc342-dbc2-4714-8b68-802639b964fd",
   "metadata": {},
   "source": [
    "- Jupyter integrates LaTeX formatting\n",
    "- FTCS = forward in time, centered in space"
   ]
  },
  {
   "cell_type": "markdown",
   "id": "74a9a8cb-be60-4b9c-941d-2447f207a4b5",
   "metadata": {},
   "source": [
    "Two libraries used to create this: Numpy for arrays, Matplotlib for plotting. These aren't part of base Python."
   ]
  },
  {
   "cell_type": "markdown",
   "id": "d99d1b7a-73c1-4a2e-8d39-4a3939656dc4",
   "metadata": {},
   "source": [
    "At this point, switched from default kernel to CSDMS kernel for the preconfigured env."
   ]
  },
  {
   "cell_type": "code",
   "execution_count": null,
   "id": "554a2bc0-7442-46e2-a3ec-7b055eaf0d24",
   "metadata": {},
   "outputs": [],
   "source": [
    "import numpy as np\n",
    "import matplotlib.pyplot as plt"
   ]
  },
  {
   "cell_type": "markdown",
   "id": "0f684899-068f-4d31-a7f2-52742595b823",
   "metadata": {},
   "source": [
    "Set two fixed model paramenters: diffusivity and size of model domain"
   ]
  },
  {
   "cell_type": "code",
   "execution_count": null,
   "id": "2c3e4863-5af8-4c5e-bb84-119239731bab",
   "metadata": {},
   "outputs": [],
   "source": [
    "D = 100 # diffusivity\n",
    "Lx = 300 # domain size"
   ]
  },
  {
   "cell_type": "markdown",
   "id": "9c672c75-a2c6-4943-b980-7dc7fa28b2fb",
   "metadata": {},
   "source": [
    "Then set up the model grid using a numpy array"
   ]
  },
  {
   "cell_type": "code",
   "execution_count": null,
   "id": "31b8cdca-61ec-4a45-9bdb-11012edac712",
   "metadata": {},
   "outputs": [],
   "source": [
    "dx = 0.5 # resolution of the x axis\n",
    "x = np.arange(start=0, stop=Lx, step=dx) # use the arange function from numpy to initialize model grid with an array\n",
    "nx = len(x) # this is the number of model steps"
   ]
  },
  {
   "cell_type": "code",
   "execution_count": null,
   "id": "6ffb6b8d-8b0a-48c7-b693-7bae873abad9",
   "metadata": {},
   "outputs": [],
   "source": [
    "whos # prints variable window, similar to Rstudio viewer"
   ]
  },
  {
   "cell_type": "code",
   "execution_count": null,
   "id": "f4696e54-da35-4755-81db-71042b7d2fc3",
   "metadata": {},
   "outputs": [],
   "source": [
    "x[0]  # prints first element of the array"
   ]
  },
  {
   "cell_type": "code",
   "execution_count": null,
   "id": "d243b4b9-0e9e-42a6-8318-86f2d5d4f335",
   "metadata": {},
   "outputs": [],
   "source": [
    "x[nx] # trying to get the 600th index, will throw an error"
   ]
  },
  {
   "cell_type": "code",
   "execution_count": null,
   "id": "938dd60f-b7f4-465a-b592-2354bab2b2b0",
   "metadata": {},
   "outputs": [],
   "source": [
    "x[nx-1]"
   ]
  },
  {
   "cell_type": "code",
   "execution_count": null,
   "id": "e07825dd-e99c-46cd-bab2-4bdd467aaa2b",
   "metadata": {},
   "outputs": [],
   "source": [
    "x[-1]  # will give same result as prev cell"
   ]
  },
  {
   "cell_type": "code",
   "execution_count": null,
   "id": "7dc98e83-5dd9-4e07-8d5d-d7acf6e12bf2",
   "metadata": {},
   "outputs": [],
   "source": [
    "x[0:5]  # gives first 5 values of array, end of colon is not inclusive"
   ]
  },
  {
   "cell_type": "markdown",
   "id": "1fde55fa-e50a-4cab-aa41-d792ab02f0ab",
   "metadata": {},
   "source": [
    "Set the initial concentration profile for the model. The concentration `C` is a step function with a high value on the left and a low value on the right. There's a step at the center of the domain."
   ]
  },
  {
   "cell_type": "code",
   "execution_count": null,
   "id": "0e044b7b-9a5d-4a10-b38c-a1bd4315291c",
   "metadata": {},
   "outputs": [],
   "source": [
    "C = np.zeros_like(x)  # zeros_like makes an array that is like another array, in this case, x\n",
    "C_left = 500 # spatial constraint, left side\n",
    "C_right = 0  # spatial constraint, right side\n",
    "C[x <= Lx//2] = C_left  # C for values of x that are less than the domain length divided by two \n",
    "C[x > Lx//2] = C_right  # C for values of x that are more than the domain length divided by two\n",
    "# note: double slash indicates integer division"
   ]
  },
  {
   "cell_type": "markdown",
   "id": "aea84653-5f2b-407e-a8ef-428bf21679ed",
   "metadata": {},
   "source": [
    "plotting the initial profile of the step function"
   ]
  },
  {
   "cell_type": "code",
   "execution_count": null,
   "id": "c461b184-88d8-4b8a-8643-6072b0965ce4",
   "metadata": {},
   "outputs": [],
   "source": [
    "plt.figure()  # initiates plotting process with matplotlib\n",
    "plt.plot(x, C, \"r\")\n",
    "plt.xlabel(\"x\")\n",
    "plt.ylabel(\"C\")\n",
    "plt.title(\"Initial concentration profile\")"
   ]
  },
  {
   "cell_type": "markdown",
   "id": "c255beb8-d9dd-40c3-abbc-b578bd725440",
   "metadata": {},
   "source": [
    "Now set up the time component of the model:\n",
    "- start time\n",
    "- number of time steps\n",
    "- calculate a stable time step using stability criterion"
   ]
  },
  {
   "cell_type": "code",
   "execution_count": null,
   "id": "81828670-359b-4043-a3a9-e819489cb1bc",
   "metadata": {},
   "outputs": [],
   "source": [
    "time  = 0\n",
    "nt = 5000  # number of time steps\n",
    "dt = (0.5 * dx**2)w / D  # double asterisks indicates exponent"
   ]
  },
  {
   "cell_type": "code",
   "execution_count": null,
   "id": "8b050fdd-2fbb-4799-8bbc-f831ed19025b",
   "metadata": {},
   "outputs": [],
   "source": [
    "dt"
   ]
  },
  {
   "cell_type": "markdown",
   "id": "2517086b-b07a-490e-9836-c984aff68e82",
   "metadata": {},
   "source": [
    "Loop over the time steps of the model, solving the diffusion equation using the FTCS explicit scheme described above.\n",
    "- Boundary conditions are fixed so reset them at each time step"
   ]
  },
  {
   "cell_type": "code",
   "execution_count": null,
   "id": "9d607a3a-c104-4f5e-a353-e6d190837db2",
   "metadata": {},
   "outputs": [],
   "source": [
    "for t in range(0, nt):\n",
    "    C += D * dt/dx**2 * (np.roll(C, -1) - 2*C + np.roll(C,1))\n",
    "    C[0] = C_left\n",
    "    C[-1] = C_right\n",
    "\n",
    "# this is the discretization equation from earlier\n",
    "# += will add whatever to prev value of the thing\n",
    "# the numpy roll function shifts the array as indicated by the second arg"
   ]
  },
  {
   "cell_type": "code",
   "execution_count": null,
   "id": "3f2a45ca-31aa-4975-abe7-96f1082ad57f",
   "metadata": {},
   "outputs": [],
   "source": [
    "# plot the result:\n",
    "\n",
    "plt.figure()\n",
    "plt.plot(x, C, \"b\")\n",
    "plt.xlabel(\"x\")\n",
    "plt.ylabel(\"C\")\n",
    "plt.title(\"Final concentration profile\")  #diffusion!"
   ]
  },
  {
   "cell_type": "code",
   "execution_count": null,
   "id": "3dc0aae6-28a0-4e96-aa46-f6ad7cfcc12e",
   "metadata": {},
   "outputs": [],
   "source": []
  }
 ],
 "metadata": {
  "kernelspec": {
   "display_name": "CSDMS",
   "language": "python",
   "name": "csdms"
  },
  "language_info": {
   "codemirror_mode": {
    "name": "ipython",
    "version": 3
   },
   "file_extension": ".py",
   "mimetype": "text/x-python",
   "name": "python",
   "nbconvert_exporter": "python",
   "pygments_lexer": "ipython3",
   "version": "3.12.7"
  }
 },
 "nbformat": 4,
 "nbformat_minor": 5
}
